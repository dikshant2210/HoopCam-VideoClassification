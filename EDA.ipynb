{
 "cells": [
  {
   "cell_type": "code",
   "execution_count": 1,
   "metadata": {
    "collapsed": true
   },
   "outputs": [],
   "source": [
    "import pandas as pd\n",
    "import numpy as np"
   ]
  },
  {
   "cell_type": "code",
   "execution_count": 2,
   "metadata": {
    "collapsed": true
   },
   "outputs": [],
   "source": [
    "df = pd.read_csv('input/hoopcam.csv')"
   ]
  },
  {
   "cell_type": "code",
   "execution_count": 3,
   "metadata": {},
   "outputs": [
    {
     "data": {
      "text/plain": [
       "5.962441314553991"
      ]
     },
     "execution_count": 3,
     "metadata": {},
     "output_type": "execute_result"
    }
   ],
   "source": [
    "sum(df['ActionsFound'].isnull()) / df.shape[0] * 100"
   ]
  },
  {
   "cell_type": "code",
   "execution_count": 4,
   "metadata": {},
   "outputs": [
    {
     "name": "stdout",
     "output_type": "stream",
     "text": [
      "(2130, 3)\n"
     ]
    },
    {
     "data": {
      "text/plain": [
       "(2003, 3)"
      ]
     },
     "execution_count": 4,
     "metadata": {},
     "output_type": "execute_result"
    }
   ],
   "source": [
    "print(df.shape)\n",
    "df = df.dropna(); df.shape"
   ]
  },
  {
   "cell_type": "code",
   "execution_count": 5,
   "metadata": {
    "collapsed": true
   },
   "outputs": [],
   "source": [
    "actions_list = ['JS', 'D', 'C', 'L', 'BTL', 'BTB', 'SM', 'HS', 'None']\n",
    "\n",
    "def clean_actions(actions):\n",
    "    if type(actions) == str:\n",
    "        actions = actions.strip(' ')\n",
    "        actions = actions.replace('l', '|')\n",
    "        actions = actions.replace('\\\\', '|')\n",
    "        actions = actions.replace('BTTL', 'BTL')\n",
    "        actions = actions.replace('TBL', 'BTL')\n",
    "        actions = actions.replace('NONE', 'None')\n",
    "    return actions"
   ]
  },
  {
   "cell_type": "code",
   "execution_count": 6,
   "metadata": {
    "collapsed": true
   },
   "outputs": [],
   "source": [
    "df['ActionsFound'] = df['ActionsFound'].apply(clean_actions)"
   ]
  },
  {
   "cell_type": "code",
   "execution_count": 7,
   "metadata": {
    "collapsed": true
   },
   "outputs": [],
   "source": [
    "from collections import defaultdict\n",
    "action_count = defaultdict(int)\n",
    "for actions in df['ActionsFound']:\n",
    "    if type(actions) == float:\n",
    "        action_count['NaN'] += 1\n",
    "        continue\n",
    "    for action in actions.split('|'):\n",
    "        action_count[action] +=  1"
   ]
  },
  {
   "cell_type": "code",
   "execution_count": 8,
   "metadata": {},
   "outputs": [
    {
     "data": {
      "image/png": "[encoded data removed]",
      "text/plain": [
       "<matplotlib.figure.Figure at 0x7f626443ffd0>"
      ]
     },
     "metadata": {},
     "output_type": "display_data"
    }
   ],
   "source": [
    "import matplotlib.pyplot as plt\n",
    "%matplotlib inline\n",
    "\n",
    "values = list()\n",
    "keys = list()\n",
    "for key in action_count.keys():\n",
    "    keys.append(key)\n",
    "    values.append(action_count[key])\n",
    "plt.figure(figsize=(10, 8))\n",
    "plt.bar(range(len(values)), values, width=0.7)\n",
    "plt.xticks(range(len(keys)), keys)\n",
    "plt.ylabel('Number of times action is performed')\n",
    "plt.xlabel('Actions')\n",
    "for x, y in enumerate(values):\n",
    "    plt.text(x-0.15, y+10, y)\n",
    "plt.savefig('input/action_count.jpeg')\n",
    "plt.show()"
   ]
  },
  {
   "cell_type": "code",
   "execution_count": 9,
   "metadata": {
    "collapsed": true
   },
   "outputs": [],
   "source": [
    "for actions, file in zip(df['ActionsFound'], df['Path']):\n",
    "    if type(actions) == float:\n",
    "        continue\n",
    "    for action in actions.split('|'):\n",
    "        if action not in actions_list:\n",
    "            print(action, file)"
   ]
  },
  {
   "cell_type": "code",
   "execution_count": null,
   "metadata": {
    "collapsed": true
   },
   "outputs": [],
   "source": []
  }
 ],
 "metadata": {
  "kernelspec": {
   "display_name": "Python 3",
   "language": "python",
   "name": "python3"
  },
  "language_info": {
   "codemirror_mode": {
    "name": "ipython",
    "version": 3
   },
   "file_extension": ".py",
   "mimetype": "text/x-python",
   "name": "python",
   "nbconvert_exporter": "python",
   "pygments_lexer": "ipython3",
   "version": "3.6.2"
  }
 },
 "nbformat": 4,
 "nbformat_minor": 2
}
