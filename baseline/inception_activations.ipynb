{
 "cells": [
  {
   "cell_type": "code",
   "execution_count": 1,
   "metadata": {
    "collapsed": true
   },
   "outputs": [],
   "source": [
    "import numpy as np\n",
    "import pandas as pd\n",
    "import os"
   ]
  },
  {
   "cell_type": "code",
   "execution_count": 2,
   "metadata": {},
   "outputs": [
    {
     "data": {
      "text/html": [
       "<div>\n",
       "<style>\n",
       "    .dataframe thead tr:only-child th {\n",
       "        text-align: right;\n",
       "    }\n",
       "\n",
       "    .dataframe thead th {\n",
       "        text-align: left;\n",
       "    }\n",
       "\n",
       "    .dataframe tbody tr th {\n",
       "        vertical-align: top;\n",
       "    }\n",
       "</style>\n",
       "<table border=\"1\" class=\"dataframe\">\n",
       "  <thead>\n",
       "    <tr style=\"text-align: right;\">\n",
       "      <th></th>\n",
       "      <th>ActionsFound</th>\n",
       "      <th>ChangeOfPace</th>\n",
       "      <th>Path</th>\n",
       "    </tr>\n",
       "  </thead>\n",
       "  <tbody>\n",
       "    <tr>\n",
       "      <th>0</th>\n",
       "      <td>C|D</td>\n",
       "      <td>0</td>\n",
       "      <td>B1-nT_Moe_1.mov</td>\n",
       "    </tr>\n",
       "    <tr>\n",
       "      <th>1</th>\n",
       "      <td>None</td>\n",
       "      <td>0</td>\n",
       "      <td>B1-nT_Moe_2.mov</td>\n",
       "    </tr>\n",
       "    <tr>\n",
       "      <th>2</th>\n",
       "      <td>SM|JS</td>\n",
       "      <td>1</td>\n",
       "      <td>B1-nT_Moe_3.mov</td>\n",
       "    </tr>\n",
       "    <tr>\n",
       "      <th>3</th>\n",
       "      <td>JS</td>\n",
       "      <td>0</td>\n",
       "      <td>B1-nT_Moe_4.mov</td>\n",
       "    </tr>\n",
       "    <tr>\n",
       "      <th>4</th>\n",
       "      <td>D</td>\n",
       "      <td>0</td>\n",
       "      <td>B15h8Cful_1.mov</td>\n",
       "    </tr>\n",
       "  </tbody>\n",
       "</table>\n",
       "</div>"
      ],
      "text/plain": [
       "  ActionsFound ChangeOfPace             Path\n",
       "0          C|D            0  B1-nT_Moe_1.mov\n",
       "1         None            0  B1-nT_Moe_2.mov\n",
       "2        SM|JS            1  B1-nT_Moe_3.mov\n",
       "3           JS            0  B1-nT_Moe_4.mov\n",
       "4            D            0  B15h8Cful_1.mov"
      ]
     },
     "execution_count": 2,
     "metadata": {},
     "output_type": "execute_result"
    }
   ],
   "source": [
    "df = pd.read_csv('input/hoopcam.csv'); df.head()"
   ]
  },
  {
   "cell_type": "code",
   "execution_count": 3,
   "metadata": {},
   "outputs": [
    {
     "data": {
      "text/plain": [
       "(2003, 3)"
      ]
     },
     "execution_count": 3,
     "metadata": {},
     "output_type": "execute_result"
    }
   ],
   "source": [
    "df = df.dropna(); df.shape"
   ]
  },
  {
   "cell_type": "code",
   "execution_count": 4,
   "metadata": {},
   "outputs": [
    {
     "data": {
      "text/plain": [
       "['input/data/B1-nT_Moe_1.mov',\n",
       " 'input/data/B1-nT_Moe_2.mov',\n",
       " 'input/data/B1-nT_Moe_3.mov',\n",
       " 'input/data/B1-nT_Moe_4.mov',\n",
       " 'input/data/B15h8Cful_1.mov']"
      ]
     },
     "execution_count": 4,
     "metadata": {},
     "output_type": "execute_result"
    }
   ],
   "source": [
    "path = 'input/data/'\n",
    "files = [path + file for file in df['Path']]\n",
    "files[:5]"
   ]
  },
  {
   "cell_type": "code",
   "execution_count": 5,
   "metadata": {},
   "outputs": [
    {
     "name": "stderr",
     "output_type": "stream",
     "text": [
      "Using TensorFlow backend.\n"
     ]
    }
   ],
   "source": [
    "from extractor import Extractor\n",
    "extract = Extractor()"
   ]
  },
  {
   "cell_type": "code",
   "execution_count": 6,
   "metadata": {
    "scrolled": true
   },
   "outputs": [
    {
     "name": "stderr",
     "output_type": "stream",
     "text": [
      "WARNING:root:Warning: the frame size for reading (480, 360) is different from the source frame size (1280, 720).\n",
      "WARNING:root:Warning: the frame size for reading (480, 360) is different from the source frame size (1280, 720).\n",
      "WARNING:root:Warning: the frame size for reading (480, 360) is different from the source frame size (1280, 720).\n",
      "WARNING:root:Warning: the frame size for reading (480, 360) is different from the source frame size (1280, 720).\n",
      "WARNING:root:Warning: the frame size for reading (480, 360) is different from the source frame size (1280, 720).\n",
      "WARNING:root:Warning: the frame size for reading (480, 360) is different from the source frame size (1280, 720).\n",
      "WARNING:root:Warning: the frame size for reading (480, 360) is different from the source frame size (1280, 720).\n",
      "WARNING:root:Warning: the frame size for reading (480, 360) is different from the source frame size (1280, 720).\n",
      "WARNING:root:Warning: the frame size for reading (480, 360) is different from the source frame size (1280, 720).\n",
      "WARNING:root:Warning: the frame size for reading (480, 360) is different from the source frame size (1280, 720).\n",
      "WARNING:root:Warning: the frame size for reading (480, 360) is different from the source frame size (1280, 720).\n",
      "WARNING:root:Warning: the frame size for reading (480, 360) is different from the source frame size (1280, 720).\n",
      "WARNING:root:Warning: the frame size for reading (480, 360) is different from the source frame size (1280, 720).\n",
      "WARNING:root:Warning: the frame size for reading (480, 360) is different from the source frame size (1280, 720).\n",
      "WARNING:root:Warning: the frame size for reading (480, 360) is different from the source frame size (1280, 720).\n",
      "WARNING:root:Warning: the frame size for reading (480, 360) is different from the source frame size (1280, 720).\n",
      "WARNING:root:Warning: the frame size for reading (480, 360) is different from the source frame size (1280, 720).\n",
      "WARNING:root:Warning: the frame size for reading (480, 360) is different from the source frame size (1280, 720).\n",
      "WARNING:root:Warning: the frame size for reading (480, 360) is different from the source frame size (1280, 720).\n",
      "WARNING:root:Warning: the frame size for reading (480, 360) is different from the source frame size (1280, 720).\n",
      "WARNING:root:Warning: the frame size for reading (480, 360) is different from the source frame size (1280, 720).\n",
      "WARNING:root:Warning: the frame size for reading (480, 360) is different from the source frame size (1280, 720).\n",
      "WARNING:root:Warning: the frame size for reading (480, 360) is different from the source frame size (1280, 720).\n",
      "WARNING:root:Warning: the frame size for reading (480, 360) is different from the source frame size (1280, 720).\n",
      "WARNING:root:Warning: the frame size for reading (480, 360) is different from the source frame size (1280, 720).\n",
      "WARNING:root:Warning: the frame size for reading (480, 360) is different from the source frame size (1280, 720).\n",
      "WARNING:root:Warning: the frame size for reading (480, 360) is different from the source frame size (1280, 720).\n",
      "WARNING:root:Warning: the frame size for reading (480, 360) is different from the source frame size (1280, 720).\n",
      "WARNING:root:Warning: the frame size for reading (480, 360) is different from the source frame size (1280, 720).\n",
      "WARNING:root:Warning: the frame size for reading (480, 360) is different from the source frame size (1280, 720).\n",
      "WARNING:root:Warning: the frame size for reading (480, 360) is different from the source frame size (1280, 720).\n",
      "WARNING:root:Warning: the frame size for reading (480, 360) is different from the source frame size (1280, 720).\n",
      "WARNING:root:Warning: the frame size for reading (480, 360) is different from the source frame size (1280, 720).\n",
      "WARNING:root:Warning: the frame size for reading (480, 360) is different from the source frame size (1280, 720).\n",
      "WARNING:root:Warning: the frame size for reading (480, 360) is different from the source frame size (1280, 720).\n",
      "WARNING:root:Warning: the frame size for reading (480, 360) is different from the source frame size (1280, 720).\n",
      "WARNING:root:Warning: the frame size for reading (480, 360) is different from the source frame size (1280, 720).\n",
      "WARNING:root:Warning: the frame size for reading (480, 360) is different from the source frame size (1280, 720).\n",
      "WARNING:root:Warning: the frame size for reading (480, 360) is different from the source frame size (1280, 720).\n",
      "WARNING:root:Warning: the frame size for reading (480, 360) is different from the source frame size (1280, 720).\n",
      "WARNING:root:Warning: the frame size for reading (480, 360) is different from the source frame size (1280, 720).\n",
      "WARNING:root:Warning: the frame size for reading (480, 360) is different from the source frame size (1280, 720).\n",
      "WARNING:root:Warning: the frame size for reading (480, 360) is different from the source frame size (1280, 720).\n",
      "WARNING:root:Warning: the frame size for reading (480, 360) is different from the source frame size (1280, 720).\n",
      "WARNING:root:Warning: the frame size for reading (480, 360) is different from the source frame size (1280, 720).\n",
      "WARNING:root:Warning: the frame size for reading (480, 360) is different from the source frame size (1280, 720).\n",
      "WARNING:root:Warning: the frame size for reading (480, 360) is different from the source frame size (1280, 720).\n",
      "WARNING:root:Warning: the frame size for reading (480, 360) is different from the source frame size (1280, 720).\n",
      "WARNING:root:Warning: the frame size for reading (480, 360) is different from the source frame size (1280, 720).\n",
      "WARNING:root:Warning: the frame size for reading (480, 360) is different from the source frame size (1280, 720).\n",
      "WARNING:root:Warning: the frame size for reading (480, 360) is different from the source frame size (1280, 720).\n",
      "WARNING:root:Warning: the frame size for reading (480, 360) is different from the source frame size (1280, 720).\n",
      "WARNING:root:Warning: the frame size for reading (480, 360) is different from the source frame size (1280, 720).\n",
      "WARNING:root:Warning: the frame size for reading (480, 360) is different from the source frame size (1280, 720).\n",
      "WARNING:root:Warning: the frame size for reading (480, 360) is different from the source frame size (1280, 720).\n",
      "WARNING:root:Warning: the frame size for reading (480, 360) is different from the source frame size (1280, 720).\n",
      "WARNING:root:Warning: the frame size for reading (480, 360) is different from the source frame size (1280, 720).\n",
      "WARNING:root:Warning: the frame size for reading (480, 360) is different from the source frame size (1280, 720).\n",
      "WARNING:root:Warning: the frame size for reading (480, 360) is different from the source frame size (1280, 720).\n",
      "WARNING:root:Warning: the frame size for reading (480, 360) is different from the source frame size (1280, 720).\n",
      "WARNING:root:Warning: the frame size for reading (480, 360) is different from the source frame size (1280, 720).\n",
      "WARNING:root:Warning: the frame size for reading (480, 360) is different from the source frame size (1280, 720).\n",
      "WARNING:root:Warning: the frame size for reading (480, 360) is different from the source frame size (1280, 720).\n",
      "WARNING:root:Warning: the frame size for reading (480, 360) is different from the source frame size (1280, 720).\n",
      "WARNING:root:Warning: the frame size for reading (480, 360) is different from the source frame size (1280, 720).\n",
      "WARNING:root:Warning: the frame size for reading (480, 360) is different from the source frame size (1280, 720).\n",
      "WARNING:root:Warning: the frame size for reading (480, 360) is different from the source frame size (1280, 720).\n",
      "WARNING:root:Warning: the frame size for reading (480, 360) is different from the source frame size (1280, 720).\n",
      "WARNING:root:Warning: the frame size for reading (480, 360) is different from the source frame size (1280, 720).\n",
      "WARNING:root:Warning: the frame size for reading (480, 360) is different from the source frame size (1280, 720).\n",
      "WARNING:root:Warning: the frame size for reading (480, 360) is different from the source frame size (1280, 720).\n",
      "WARNING:root:Warning: the frame size for reading (480, 360) is different from the source frame size (1280, 720).\n",
      "WARNING:root:Warning: the frame size for reading (480, 360) is different from the source frame size (1280, 720).\n"
     ]
    },
    {
     "name": "stderr",
     "output_type": "stream",
     "text": [
      "WARNING:root:Warning: the frame size for reading (480, 360) is different from the source frame size (1280, 720).\n",
      "WARNING:root:Warning: the frame size for reading (480, 360) is different from the source frame size (1280, 720).\n",
      "WARNING:root:Warning: the frame size for reading (480, 360) is different from the source frame size (1280, 720).\n",
      "WARNING:root:Warning: the frame size for reading (480, 360) is different from the source frame size (1280, 720).\n",
      "WARNING:root:Warning: the frame size for reading (480, 360) is different from the source frame size (1280, 720).\n",
      "WARNING:root:Warning: the frame size for reading (480, 360) is different from the source frame size (1280, 720).\n",
      "WARNING:root:Warning: the frame size for reading (480, 360) is different from the source frame size (1280, 720).\n",
      "WARNING:root:Warning: the frame size for reading (480, 360) is different from the source frame size (1280, 720).\n",
      "WARNING:root:Warning: the frame size for reading (480, 360) is different from the source frame size (1280, 720).\n",
      "WARNING:root:Warning: the frame size for reading (480, 360) is different from the source frame size (1280, 720).\n",
      "WARNING:root:Warning: the frame size for reading (480, 360) is different from the source frame size (1280, 720).\n",
      "WARNING:root:Warning: the frame size for reading (480, 360) is different from the source frame size (1280, 720).\n",
      "WARNING:root:Warning: the frame size for reading (480, 360) is different from the source frame size (1280, 720).\n",
      "WARNING:root:Warning: the frame size for reading (480, 360) is different from the source frame size (1280, 720).\n",
      "WARNING:root:Warning: the frame size for reading (480, 360) is different from the source frame size (1280, 720).\n",
      "WARNING:root:Warning: the frame size for reading (480, 360) is different from the source frame size (1280, 720).\n",
      "WARNING:root:Warning: the frame size for reading (480, 360) is different from the source frame size (1280, 720).\n",
      "WARNING:root:Warning: the frame size for reading (480, 360) is different from the source frame size (1280, 720).\n",
      "WARNING:root:Warning: the frame size for reading (480, 360) is different from the source frame size (1280, 720).\n",
      "WARNING:root:Warning: the frame size for reading (480, 360) is different from the source frame size (1280, 720).\n",
      "WARNING:root:Warning: the frame size for reading (480, 360) is different from the source frame size (1280, 720).\n",
      "WARNING:root:Warning: the frame size for reading (480, 360) is different from the source frame size (1280, 720).\n",
      "WARNING:root:Warning: the frame size for reading (480, 360) is different from the source frame size (1280, 720).\n",
      "WARNING:root:Warning: the frame size for reading (480, 360) is different from the source frame size (1280, 720).\n",
      "WARNING:root:Warning: the frame size for reading (480, 360) is different from the source frame size (1280, 720).\n",
      "WARNING:root:Warning: the frame size for reading (480, 360) is different from the source frame size (1280, 720).\n",
      "WARNING:root:Warning: the frame size for reading (480, 360) is different from the source frame size (1280, 720).\n",
      "WARNING:root:Warning: the frame size for reading (480, 360) is different from the source frame size (1280, 720).\n",
      "WARNING:root:Warning: the frame size for reading (480, 360) is different from the source frame size (1280, 720).\n",
      "WARNING:root:Warning: the frame size for reading (480, 360) is different from the source frame size (1280, 720).\n",
      "WARNING:root:Warning: the frame size for reading (480, 360) is different from the source frame size (1280, 720).\n",
      "WARNING:root:Warning: the frame size for reading (480, 360) is different from the source frame size (1280, 720).\n",
      "WARNING:root:Warning: the frame size for reading (480, 360) is different from the source frame size (1280, 720).\n",
      "WARNING:root:Warning: the frame size for reading (480, 360) is different from the source frame size (1280, 720).\n",
      "WARNING:root:Warning: the frame size for reading (480, 360) is different from the source frame size (1280, 720).\n",
      "WARNING:root:Warning: the frame size for reading (480, 360) is different from the source frame size (1280, 720).\n",
      "WARNING:root:Warning: the frame size for reading (480, 360) is different from the source frame size (1280, 720).\n",
      "WARNING:root:Warning: the frame size for reading (480, 360) is different from the source frame size (1280, 720).\n",
      "WARNING:root:Warning: the frame size for reading (480, 360) is different from the source frame size (1280, 720).\n",
      "WARNING:root:Warning: the frame size for reading (480, 360) is different from the source frame size (1280, 720).\n",
      "WARNING:root:Warning: the frame size for reading (480, 360) is different from the source frame size (1280, 720).\n",
      "WARNING:root:Warning: the frame size for reading (480, 360) is different from the source frame size (1280, 720).\n",
      "WARNING:root:Warning: the frame size for reading (480, 360) is different from the source frame size (1280, 720).\n",
      "WARNING:root:Warning: the frame size for reading (480, 360) is different from the source frame size (1280, 720).\n",
      "WARNING:root:Warning: the frame size for reading (480, 360) is different from the source frame size (1280, 720).\n",
      "WARNING:root:Warning: the frame size for reading (480, 360) is different from the source frame size (1280, 720).\n",
      "WARNING:root:Warning: the frame size for reading (480, 360) is different from the source frame size (1280, 720).\n",
      "WARNING:root:Warning: the frame size for reading (480, 360) is different from the source frame size (1280, 720).\n",
      "WARNING:root:Warning: the frame size for reading (480, 360) is different from the source frame size (1280, 720).\n",
      "WARNING:root:Warning: the frame size for reading (480, 360) is different from the source frame size (1280, 720).\n",
      "WARNING:root:Warning: the frame size for reading (480, 360) is different from the source frame size (1280, 720).\n",
      "WARNING:root:Warning: the frame size for reading (480, 360) is different from the source frame size (1280, 720).\n",
      "WARNING:root:Warning: the frame size for reading (480, 360) is different from the source frame size (1280, 720).\n",
      "WARNING:root:Warning: the frame size for reading (480, 360) is different from the source frame size (1280, 720).\n",
      "WARNING:root:Warning: the frame size for reading (480, 360) is different from the source frame size (1280, 720).\n",
      "WARNING:root:Warning: the frame size for reading (480, 360) is different from the source frame size (1280, 720).\n",
      "WARNING:root:Warning: the frame size for reading (480, 360) is different from the source frame size (1280, 720).\n",
      "WARNING:root:Warning: the frame size for reading (480, 360) is different from the source frame size (1280, 720).\n",
      "WARNING:root:Warning: the frame size for reading (480, 360) is different from the source frame size (1280, 720).\n",
      "WARNING:root:Warning: the frame size for reading (480, 360) is different from the source frame size (1280, 720).\n",
      "WARNING:root:Warning: the frame size for reading (480, 360) is different from the source frame size (1280, 720).\n",
      "WARNING:root:Warning: the frame size for reading (480, 360) is different from the source frame size (1280, 720).\n",
      "WARNING:root:Warning: the frame size for reading (480, 360) is different from the source frame size (1280, 720).\n",
      "WARNING:root:Warning: the frame size for reading (480, 360) is different from the source frame size (1280, 720).\n",
      "WARNING:root:Warning: the frame size for reading (480, 360) is different from the source frame size (1280, 720).\n",
      "WARNING:root:Warning: the frame size for reading (480, 360) is different from the source frame size (1280, 720).\n",
      "WARNING:root:Warning: the frame size for reading (480, 360) is different from the source frame size (1280, 720).\n",
      "WARNING:root:Warning: the frame size for reading (480, 360) is different from the source frame size (1280, 720).\n",
      "WARNING:root:Warning: the frame size for reading (480, 360) is different from the source frame size (1280, 720).\n",
      "WARNING:root:Warning: the frame size for reading (480, 360) is different from the source frame size (1280, 720).\n",
      "WARNING:root:Warning: the frame size for reading (480, 360) is different from the source frame size (1280, 720).\n",
      "WARNING:root:Warning: the frame size for reading (480, 360) is different from the source frame size (1280, 720).\n",
      "WARNING:root:Warning: the frame size for reading (480, 360) is different from the source frame size (1280, 720).\n"
     ]
    },
    {
     "name": "stderr",
     "output_type": "stream",
     "text": [
      "WARNING:root:Warning: the frame size for reading (480, 360) is different from the source frame size (1280, 720).\n",
      "WARNING:root:Warning: the frame size for reading (480, 360) is different from the source frame size (1280, 720).\n",
      "WARNING:root:Warning: the frame size for reading (480, 360) is different from the source frame size (1280, 720).\n",
      "WARNING:root:Warning: the frame size for reading (480, 360) is different from the source frame size (1280, 720).\n",
      "WARNING:root:Warning: the frame size for reading (480, 360) is different from the source frame size (1280, 720).\n",
      "WARNING:root:Warning: the frame size for reading (480, 360) is different from the source frame size (1280, 720).\n",
      "WARNING:root:Warning: the frame size for reading (480, 360) is different from the source frame size (1280, 720).\n",
      "WARNING:root:Warning: the frame size for reading (480, 360) is different from the source frame size (1280, 720).\n",
      "WARNING:root:Warning: the frame size for reading (480, 360) is different from the source frame size (1280, 720).\n",
      "WARNING:root:Warning: the frame size for reading (480, 360) is different from the source frame size (1280, 720).\n",
      "WARNING:root:Warning: the frame size for reading (480, 360) is different from the source frame size (1280, 720).\n",
      "WARNING:root:Warning: the frame size for reading (480, 360) is different from the source frame size (1280, 720).\n",
      "WARNING:root:Warning: the frame size for reading (480, 360) is different from the source frame size (1280, 720).\n",
      "WARNING:root:Warning: the frame size for reading (480, 360) is different from the source frame size (1280, 720).\n",
      "WARNING:root:Warning: the frame size for reading (480, 360) is different from the source frame size (1280, 720).\n",
      "WARNING:root:Warning: the frame size for reading (480, 360) is different from the source frame size (1280, 720).\n",
      "WARNING:root:Warning: the frame size for reading (480, 360) is different from the source frame size (1280, 720).\n",
      "WARNING:root:Warning: the frame size for reading (480, 360) is different from the source frame size (1280, 720).\n",
      "WARNING:root:Warning: the frame size for reading (480, 360) is different from the source frame size (1280, 720).\n",
      "WARNING:root:Warning: the frame size for reading (480, 360) is different from the source frame size (1280, 720).\n",
      "WARNING:root:Warning: the frame size for reading (480, 360) is different from the source frame size (1280, 720).\n",
      "WARNING:root:Warning: the frame size for reading (480, 360) is different from the source frame size (1280, 720).\n",
      "WARNING:root:Warning: the frame size for reading (480, 360) is different from the source frame size (1280, 720).\n",
      "WARNING:root:Warning: the frame size for reading (480, 360) is different from the source frame size (1280, 720).\n",
      "WARNING:root:Warning: the frame size for reading (480, 360) is different from the source frame size (1280, 720).\n",
      "WARNING:root:Warning: the frame size for reading (480, 360) is different from the source frame size (1280, 720).\n",
      "WARNING:root:Warning: the frame size for reading (480, 360) is different from the source frame size (1280, 720).\n",
      "WARNING:root:Warning: the frame size for reading (480, 360) is different from the source frame size (1280, 720).\n",
      "WARNING:root:Warning: the frame size for reading (480, 360) is different from the source frame size (1280, 720).\n",
      "WARNING:root:Warning: the frame size for reading (480, 360) is different from the source frame size (1280, 720).\n",
      "WARNING:root:Warning: the frame size for reading (480, 360) is different from the source frame size (1280, 720).\n",
      "WARNING:root:Warning: the frame size for reading (480, 360) is different from the source frame size (1280, 720).\n",
      "WARNING:root:Warning: the frame size for reading (480, 360) is different from the source frame size (1280, 720).\n",
      "WARNING:root:Warning: the frame size for reading (480, 360) is different from the source frame size (1280, 720).\n",
      "WARNING:root:Warning: the frame size for reading (480, 360) is different from the source frame size (1280, 720).\n",
      "WARNING:root:Warning: the frame size for reading (480, 360) is different from the source frame size (1280, 720).\n",
      "WARNING:root:Warning: the frame size for reading (480, 360) is different from the source frame size (1280, 720).\n",
      "WARNING:root:Warning: the frame size for reading (480, 360) is different from the source frame size (1280, 720).\n",
      "WARNING:root:Warning: the frame size for reading (480, 360) is different from the source frame size (1280, 720).\n",
      "WARNING:root:Warning: the frame size for reading (480, 360) is different from the source frame size (1280, 720).\n",
      "WARNING:root:Warning: the frame size for reading (480, 360) is different from the source frame size (1280, 720).\n",
      "WARNING:root:Warning: the frame size for reading (480, 360) is different from the source frame size (1280, 720).\n",
      "WARNING:root:Warning: the frame size for reading (480, 360) is different from the source frame size (1280, 720).\n",
      "WARNING:root:Warning: the frame size for reading (480, 360) is different from the source frame size (1280, 720).\n",
      "WARNING:root:Warning: the frame size for reading (480, 360) is different from the source frame size (1280, 720).\n",
      "WARNING:root:Warning: the frame size for reading (480, 360) is different from the source frame size (1280, 720).\n",
      "WARNING:root:Warning: the frame size for reading (480, 360) is different from the source frame size (1280, 720).\n",
      "WARNING:root:Warning: the frame size for reading (480, 360) is different from the source frame size (1280, 720).\n",
      "WARNING:root:Warning: the frame size for reading (480, 360) is different from the source frame size (1280, 720).\n",
      "WARNING:root:Warning: the frame size for reading (480, 360) is different from the source frame size (1280, 720).\n",
      "WARNING:root:Warning: the frame size for reading (480, 360) is different from the source frame size (1280, 720).\n",
      "WARNING:root:Warning: the frame size for reading (480, 360) is different from the source frame size (1280, 720).\n",
      "WARNING:root:Warning: the frame size for reading (480, 360) is different from the source frame size (1280, 720).\n",
      "WARNING:root:Warning: the frame size for reading (480, 360) is different from the source frame size (1280, 720).\n",
      "WARNING:root:Warning: the frame size for reading (480, 360) is different from the source frame size (1280, 720).\n",
      "WARNING:root:Warning: the frame size for reading (480, 360) is different from the source frame size (1280, 720).\n",
      "WARNING:root:Warning: the frame size for reading (480, 360) is different from the source frame size (1280, 720).\n",
      "WARNING:root:Warning: the frame size for reading (480, 360) is different from the source frame size (1280, 720).\n",
      "WARNING:root:Warning: the frame size for reading (480, 360) is different from the source frame size (1280, 720).\n",
      "WARNING:root:Warning: the frame size for reading (480, 360) is different from the source frame size (1280, 720).\n",
      "WARNING:root:Warning: the frame size for reading (480, 360) is different from the source frame size (1280, 720).\n",
      "WARNING:root:Warning: the frame size for reading (480, 360) is different from the source frame size (1280, 720).\n",
      "WARNING:root:Warning: the frame size for reading (480, 360) is different from the source frame size (1280, 720).\n",
      "WARNING:root:Warning: the frame size for reading (480, 360) is different from the source frame size (1280, 720).\n",
      "WARNING:root:Warning: the frame size for reading (480, 360) is different from the source frame size (1280, 720).\n",
      "WARNING:root:Warning: the frame size for reading (480, 360) is different from the source frame size (1280, 720).\n",
      "WARNING:root:Warning: the frame size for reading (480, 360) is different from the source frame size (1280, 720).\n",
      "WARNING:root:Warning: the frame size for reading (480, 360) is different from the source frame size (1280, 720).\n",
      "WARNING:root:Warning: the frame size for reading (480, 360) is different from the source frame size (1280, 720).\n",
      "WARNING:root:Warning: the frame size for reading (480, 360) is different from the source frame size (1280, 720).\n",
      "WARNING:root:Warning: the frame size for reading (480, 360) is different from the source frame size (1280, 720).\n",
      "WARNING:root:Warning: the frame size for reading (480, 360) is different from the source frame size (1280, 720).\n",
      "WARNING:root:Warning: the frame size for reading (480, 360) is different from the source frame size (1280, 720).\n"
     ]
    },
    {
     "name": "stderr",
     "output_type": "stream",
     "text": [
      "WARNING:root:Warning: the frame size for reading (480, 360) is different from the source frame size (1280, 720).\n",
      "WARNING:root:Warning: the frame size for reading (480, 360) is different from the source frame size (1280, 720).\n",
      "WARNING:root:Warning: the frame size for reading (480, 360) is different from the source frame size (1280, 720).\n",
      "WARNING:root:Warning: the frame size for reading (480, 360) is different from the source frame size (1280, 720).\n",
      "WARNING:root:Warning: the frame size for reading (480, 360) is different from the source frame size (1280, 720).\n",
      "WARNING:root:Warning: the frame size for reading (480, 360) is different from the source frame size (1280, 720).\n",
      "WARNING:root:Warning: the frame size for reading (480, 360) is different from the source frame size (1280, 720).\n",
      "WARNING:root:Warning: the frame size for reading (480, 360) is different from the source frame size (1280, 720).\n",
      "WARNING:root:Warning: the frame size for reading (480, 360) is different from the source frame size (1280, 720).\n",
      "WARNING:root:Warning: the frame size for reading (480, 360) is different from the source frame size (1280, 720).\n",
      "WARNING:root:Warning: the frame size for reading (480, 360) is different from the source frame size (1280, 720).\n",
      "WARNING:root:Warning: the frame size for reading (480, 360) is different from the source frame size (1280, 720).\n",
      "WARNING:root:Warning: the frame size for reading (480, 360) is different from the source frame size (1280, 720).\n",
      "WARNING:root:Warning: the frame size for reading (480, 360) is different from the source frame size (1280, 720).\n",
      "WARNING:root:Warning: the frame size for reading (480, 360) is different from the source frame size (1280, 720).\n",
      "WARNING:root:Warning: the frame size for reading (480, 360) is different from the source frame size (1280, 720).\n",
      "WARNING:root:Warning: the frame size for reading (480, 360) is different from the source frame size (1280, 720).\n",
      "WARNING:root:Warning: the frame size for reading (480, 360) is different from the source frame size (1280, 720).\n",
      "WARNING:root:Warning: the frame size for reading (480, 360) is different from the source frame size (1280, 720).\n",
      "WARNING:root:Warning: the frame size for reading (480, 360) is different from the source frame size (1280, 720).\n",
      "WARNING:root:Warning: the frame size for reading (480, 360) is different from the source frame size (1280, 720).\n",
      "WARNING:root:Warning: the frame size for reading (480, 360) is different from the source frame size (1280, 720).\n",
      "WARNING:root:Warning: the frame size for reading (480, 360) is different from the source frame size (1280, 720).\n",
      "WARNING:root:Warning: the frame size for reading (480, 360) is different from the source frame size (1280, 720).\n",
      "WARNING:root:Warning: the frame size for reading (480, 360) is different from the source frame size (1280, 720).\n",
      "WARNING:root:Warning: the frame size for reading (480, 360) is different from the source frame size (1280, 720).\n",
      "WARNING:root:Warning: the frame size for reading (480, 360) is different from the source frame size (1280, 720).\n",
      "WARNING:root:Warning: the frame size for reading (480, 360) is different from the source frame size (1280, 720).\n",
      "WARNING:root:Warning: the frame size for reading (480, 360) is different from the source frame size (1280, 720).\n",
      "WARNING:root:Warning: the frame size for reading (480, 360) is different from the source frame size (1280, 720).\n",
      "WARNING:root:Warning: the frame size for reading (480, 360) is different from the source frame size (1280, 720).\n",
      "WARNING:root:Warning: the frame size for reading (480, 360) is different from the source frame size (1280, 720).\n",
      "WARNING:root:Warning: the frame size for reading (480, 360) is different from the source frame size (1280, 720).\n",
      "WARNING:root:Warning: the frame size for reading (480, 360) is different from the source frame size (1280, 720).\n",
      "WARNING:root:Warning: the frame size for reading (480, 360) is different from the source frame size (1280, 720).\n",
      "WARNING:root:Warning: the frame size for reading (480, 360) is different from the source frame size (1280, 720).\n",
      "WARNING:root:Warning: the frame size for reading (480, 360) is different from the source frame size (1280, 720).\n",
      "WARNING:root:Warning: the frame size for reading (480, 360) is different from the source frame size (1280, 720).\n",
      "WARNING:root:Warning: the frame size for reading (480, 360) is different from the source frame size (1280, 720).\n",
      "WARNING:root:Warning: the frame size for reading (480, 360) is different from the source frame size (1280, 720).\n",
      "WARNING:root:Warning: the frame size for reading (480, 360) is different from the source frame size (1280, 720).\n",
      "WARNING:root:Warning: the frame size for reading (480, 360) is different from the source frame size (1280, 720).\n",
      "WARNING:root:Warning: the frame size for reading (480, 360) is different from the source frame size (1280, 720).\n",
      "WARNING:root:Warning: the frame size for reading (480, 360) is different from the source frame size (1280, 720).\n",
      "WARNING:root:Warning: the frame size for reading (480, 360) is different from the source frame size (1280, 720).\n",
      "WARNING:root:Warning: the frame size for reading (480, 360) is different from the source frame size (1280, 720).\n",
      "WARNING:root:Warning: the frame size for reading (480, 360) is different from the source frame size (1280, 720).\n",
      "WARNING:root:Warning: the frame size for reading (480, 360) is different from the source frame size (1280, 720).\n",
      "WARNING:root:Warning: the frame size for reading (480, 360) is different from the source frame size (1280, 720).\n",
      "WARNING:root:Warning: the frame size for reading (480, 360) is different from the source frame size (1280, 720).\n",
      "WARNING:root:Warning: the frame size for reading (480, 360) is different from the source frame size (1280, 720).\n",
      "WARNING:root:Warning: the frame size for reading (480, 360) is different from the source frame size (1280, 720).\n",
      "WARNING:root:Warning: the frame size for reading (480, 360) is different from the source frame size (1280, 720).\n",
      "WARNING:root:Warning: the frame size for reading (480, 360) is different from the source frame size (1280, 720).\n",
      "WARNING:root:Warning: the frame size for reading (480, 360) is different from the source frame size (1280, 720).\n",
      "WARNING:root:Warning: the frame size for reading (480, 360) is different from the source frame size (1280, 720).\n",
      "WARNING:root:Warning: the frame size for reading (480, 360) is different from the source frame size (1280, 720).\n",
      "WARNING:root:Warning: the frame size for reading (480, 360) is different from the source frame size (1280, 720).\n",
      "WARNING:root:Warning: the frame size for reading (480, 360) is different from the source frame size (1280, 720).\n",
      "WARNING:root:Warning: the frame size for reading (480, 360) is different from the source frame size (1280, 720).\n"
     ]
    }
   ],
   "source": [
    "import imageio\n",
    "frames = list()\n",
    "for file in files:\n",
    "    video = imageio.get_reader(file, size=(480, 360))\n",
    "    frames.append(video._meta['nframes'])"
   ]
  },
  {
   "cell_type": "code",
   "execution_count": 7,
   "metadata": {},
   "outputs": [
    {
     "data": {
      "text/plain": [
       "(179.0469296055916, 2, 378)"
      ]
     },
     "execution_count": 7,
     "metadata": {},
     "output_type": "execute_result"
    }
   ],
   "source": [
    "np.mean(frames), min(frames), max(frames)"
   ]
  },
  {
   "cell_type": "code",
   "execution_count": 8,
   "metadata": {
    "collapsed": true
   },
   "outputs": [],
   "source": [
    "test = frames"
   ]
  },
  {
   "cell_type": "code",
   "execution_count": 9,
   "metadata": {
    "collapsed": true
   },
   "outputs": [],
   "source": [
    "import matplotlib.pyplot as plt\n",
    "%matplotlib inline"
   ]
  },
  {
   "cell_type": "code",
   "execution_count": 10,
   "metadata": {
    "collapsed": true
   },
   "outputs": [],
   "source": [
    "test.sort()"
   ]
  },
  {
   "cell_type": "code",
   "execution_count": 11,
   "metadata": {},
   "outputs": [
    {
     "data": {
      "image/png": "[encoded data removed]",
      "text/plain": [
       "<matplotlib.figure.Figure at 0x7f1e049eee48>"
      ]
     },
     "metadata": {},
     "output_type": "display_data"
    }
   ],
   "source": [
    "plt.plot(test); "
   ]
  },
  {
   "cell_type": "code",
   "execution_count": 12,
   "metadata": {},
   "outputs": [
    {
     "data": {
      "text/plain": [
       "[2, 3, 4, 4, 7, 10, 14, 16, 20, 24, 34, 34, 35, 47, 49, 50, 52, 53, 53, 54]"
      ]
     },
     "execution_count": 12,
     "metadata": {},
     "output_type": "execute_result"
    }
   ],
   "source": [
    "test[:20]"
   ]
  },
  {
   "cell_type": "code",
   "execution_count": null,
   "metadata": {
    "collapsed": true
   },
   "outputs": [],
   "source": []
  }
 ],
 "metadata": {
  "kernelspec": {
   "display_name": "Python 3",
   "language": "python",
   "name": "python3"
  },
  "language_info": {
   "codemirror_mode": {
    "name": "ipython",
    "version": 3
   },
   "file_extension": ".py",
   "mimetype": "text/x-python",
   "name": "python",
   "nbconvert_exporter": "python",
   "pygments_lexer": "ipython3",
   "version": "3.6.2"
  }
 },
 "nbformat": 4,
 "nbformat_minor": 2
}
